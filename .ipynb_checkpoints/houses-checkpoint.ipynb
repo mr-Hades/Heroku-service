{
 "cells": [
  {
   "cell_type": "code",
   "execution_count": 8,
   "metadata": {},
   "outputs": [],
   "source": [
    "import pandas as pd\n",
    "import numpy as np\n",
    "\n",
    "from sklearn.pipeline import Pipeline, FeatureUnion\n",
    "from sklearn import datasets, linear_model\n",
    "from sklearn.metrics import mean_squared_error, r2_score\n",
    "from xgboost import XGBRegressor\n",
    "from sklearn.base import TransformerMixin\n",
    "from sklearn.externals import joblib"
   ]
  },
  {
   "cell_type": "code",
   "execution_count": 2,
   "metadata": {},
   "outputs": [],
   "source": [
    "train_path = 'train.csv'\n",
    "test_path = 'test.csv'\n",
    "\n",
    "train_data = pd.read_csv(train_path)\n",
    "test_data = pd.read_csv(test_path)\n",
    "\n",
    "x_train = train_data.iloc[:,:-1]\n",
    "y_train = train_data.iloc[:,-1]\n",
    "\n",
    "x_test = test_data"
   ]
  },
  {
   "cell_type": "code",
   "execution_count": 3,
   "metadata": {},
   "outputs": [
    {
     "data": {
      "text/plain": [
       "Pipeline(memory=None,\n",
       "     steps=[('trans', <__main__.Data_Transform object at 0x7fe87bdfe710>), ('xgb', XGRegr(base_score=0.5, booster='gbtree', colsample_bylevel=1,\n",
       "    colsample_bytree=1, gamma=0, learning_rate=0.08, max_delta_step=0,\n",
       "    max_depth=7, min_child_weight=1, missing=None, n_estimators=100,\n",
       "    n_jobs=1, nthread=None, objective='reg:linear', random_state=0,\n",
       "    reg_alpha=0, reg_lambda=1, scale_pos_weight=1, seed=None, silent=True,\n",
       "    subsample=0.75))])"
      ]
     },
     "execution_count": 3,
     "metadata": {},
     "output_type": "execute_result"
    }
   ],
   "source": [
    "class Data_Transform(TransformerMixin):\n",
    "    def __init__(self, columns):\n",
    "        self._columns = columns\n",
    "        self._categories = None\n",
    "    \n",
    "    def transform(self, X):\n",
    "        if isinstance(X, list):\n",
    "            filtered = pd.DataFrame.from_records(X, columns=self._columns)\n",
    "        else:\n",
    "            filtered = X.loc[:,self._columns]\n",
    "        \n",
    "        filtered.loc[:,'timestamp'] = pd.to_datetime(filtered['timestamp']).astype(np.int64) // 10 ** 9\n",
    "        filtered.loc[:,'sub_area'] = filtered['sub_area'].astype('category', categories=self._categories)\n",
    "        one_hots = pd.get_dummies(filtered['sub_area'], prefix='sub_area', dummy_na=True)  \n",
    "        filtered = pd.concat((one_hots, filtered), axis=1)\n",
    "        filtered.drop('sub_area', axis=1, inplace=True)\n",
    "        return filtered\n",
    "    \n",
    "    def fit(self, X, y=None, *_):\n",
    "        self._categories = pd.Series(X['sub_area']).unique()\n",
    "        return self\n",
    "\n",
    "\n",
    "class XGRegr(XGBRegressor):\n",
    "    def __init__(self, max_depth=3, learning_rate=0.1, n_estimators=100, silent=True,\n",
    "                 objective='reg:linear', booster='gbtree', n_jobs=1, nthread=None,\n",
    "                 gamma=0, min_child_weight=1, max_delta_step=0, subsample=1,\n",
    "                 colsample_bytree=1, colsample_bylevel=1, reg_alpha=0,\n",
    "                 reg_lambda=1, scale_pos_weight=1, base_score=0.5, random_state=0,\n",
    "                 seed=None, missing=None, **kwargs):\n",
    "        \n",
    "        super().__init__(max_depth=max_depth, learning_rate=learning_rate, n_estimators=n_estimators, silent=silent,\n",
    "                         objective=objective, booster=booster, n_jobs=n_jobs, nthread=nthread,\n",
    "                         gamma=gamma, min_child_weight=min_child_weight, max_delta_step=max_delta_step, subsample=subsample,\n",
    "                         colsample_bytree=colsample_bytree, colsample_bylevel=colsample_bylevel, reg_alpha=reg_alpha,\n",
    "                         reg_lambda=reg_lambda, scale_pos_weight=scale_pos_weight, base_score=base_score, random_state=random_state,\n",
    "                         seed=seed, missing=missing, **kwargs)\n",
    "        \n",
    "    def transform(self, *args):\n",
    "        return self.predict(*args).reshape(-1,1)\n",
    "\n",
    "    \n",
    "def new_model():\n",
    "    xgb = XGRegr(n_estimators=100, learning_rate=0.08, gamma=0, subsample=0.75,\n",
    "                               colsample_bytree=1, max_depth=7)\n",
    "\n",
    "    trans = Data_Transform(['full_sq', 'life_sq', 'floor', 'max_floor',\n",
    "                    'num_room', 'build_year', 'timestamp', 'sub_area'])\n",
    "    \n",
    "    pipe = Pipeline([('trans', trans), ('xgb', xgb)])\n",
    "    return pipe\n",
    "\n",
    "model = new_model()\n",
    "model.fit(x_train, y_train)\n"
   ]
  },
  {
   "cell_type": "code",
   "execution_count": 4,
   "metadata": {},
   "outputs": [],
   "source": [
    "# there is no point in this structure ofcourse, its done just for usage of featureunion and pipeline,\n",
    "# as the best result is gained by just removing all columns with nan data and using xgboost\n",
    "# the Kaggle score for it is 0.338\n",
    "\n",
    "# In this homework I haven't made the transformer function for data but will do the for flask homework."
   ]
  },
  {
   "cell_type": "code",
   "execution_count": 6,
   "metadata": {},
   "outputs": [],
   "source": [
    "y_test = model.predict(x_test.fillna(0))\n",
    "x_test['price_doc'] = y_test\n"
   ]
  },
  {
   "cell_type": "code",
   "execution_count": 7,
   "metadata": {},
   "outputs": [],
   "source": [
    "x_test[['id', 'price_doc']].to_csv('soln.csv', index=False)\n"
   ]
  },
  {
   "cell_type": "code",
   "execution_count": 11,
   "metadata": {},
   "outputs": [
    {
     "data": {
      "text/plain": [
       "['appforhades/model.jlib']"
      ]
     },
     "execution_count": 11,
     "metadata": {},
     "output_type": "execute_result"
    }
   ],
   "source": [
    "joblib.dump(model, 'appforhades/model.jlib')"
   ]
  }
 ],
 "metadata": {
  "kernelspec": {
   "display_name": "Python 3",
   "language": "python",
   "name": "python3"
  },
  "language_info": {
   "codemirror_mode": {
    "name": "ipython",
    "version": 3
   },
   "file_extension": ".py",
   "mimetype": "text/x-python",
   "name": "python",
   "nbconvert_exporter": "python",
   "pygments_lexer": "ipython3",
   "version": "3.5.2"
  }
 },
 "nbformat": 4,
 "nbformat_minor": 2
}
